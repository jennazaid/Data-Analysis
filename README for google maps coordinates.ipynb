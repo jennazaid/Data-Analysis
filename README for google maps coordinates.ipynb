{
 "cells": [
  {
   "cell_type": "code",
   "execution_count": null,
   "metadata": {},
   "outputs": [],
   "source": [
    "npm install\n",
    "\n",
    "node lat_long_to_octant.js 1.33333, 103.33333\n",
    "\n",
    "node dump_obj.js 3148292839839 20"
   ]
  }
 ],
 "metadata": {
  "kernelspec": {
   "display_name": "Python 3.9.7 64-bit",
   "language": "python",
   "name": "python3"
  },
  "language_info": {
   "name": "python",
   "version": "3.9.7"
  },
  "orig_nbformat": 4,
  "vscode": {
   "interpreter": {
    "hash": "666e5c8a8702d3e315eb4553b794d8305c34091bc7a7d5def675df4f86724eb8"
   }
  }
 },
 "nbformat": 4,
 "nbformat_minor": 2
}
